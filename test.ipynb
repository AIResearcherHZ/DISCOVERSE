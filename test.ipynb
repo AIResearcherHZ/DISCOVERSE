{
 "cells": [
  {
   "cell_type": "code",
   "execution_count": 113,
   "id": "2d270886",
   "metadata": {},
   "outputs": [],
   "source": [
    "import os\n",
    "import mujoco\n",
    "import numpy as np\n",
    "from discoverse import DISCOVERSE_ASSETS_DIR\n",
    "\n",
    "np.set_printoptions(precision=3, suppress=True)\n",
    "\n",
    "xml_path = os.path.join(DISCOVERSE_ASSETS_DIR, \"mjcf/tasks_airbot_play\", \"close_laptop.xml\")\n",
    "\n",
    "mj_model = mujoco.MjModel.from_xml_path(xml_path)\n",
    "mj_data = mujoco.MjData(mj_model)\n",
    "\n",
    "mujoco.mj_forward(mj_model, mj_data)"
   ]
  },
  {
   "cell_type": "code",
   "execution_count": null,
   "id": "3f965a36",
   "metadata": {},
   "outputs": [
    {
     "data": {
      "text/plain": [
       "{'kiwi': 8, 'plate_white': 9, 'flower_bowl': 10}"
      ]
     },
     "execution_count": 75,
     "metadata": {},
     "output_type": "execute_result"
    }
   ],
   "source": [
    "free_body_qpos_ids = {}\n",
    "for i in range(mj_model.nbody):\n",
    "    if len(mj_model.body(i).name) and mj_model.body(i).dofnum:\n",
    "        jq_id = np.where(mj_model.jnt_bodyid == mj_model.body(i).id)[0]\n",
    "        if jq_id.size:\n",
    "            if mj_model.body(i).dofnum == 6:\n",
    "                free_body_qpos_ids[mj_model.body(i).name] = int(jq_id[0])\n",
    "        else:\n",
    "            free_body_qpos_ids[mj_model.body(i).name] = None\n",
    "free_body_qpos_ids"
   ]
  },
  {
   "cell_type": "code",
   "execution_count": 114,
   "id": "c01fc1a9",
   "metadata": {},
   "outputs": [
    {
     "data": {
      "text/plain": [
       "{'world': 0,\n",
       " 'arm_pose': 1,\n",
       " 'arm_base': 2,\n",
       " 'link1': 3,\n",
       " 'link2': 4,\n",
       " 'link3': 5,\n",
       " 'link4': 6,\n",
       " 'link5': 7,\n",
       " '': 9}"
      ]
     },
     "execution_count": 114,
     "metadata": {},
     "output_type": "execute_result"
    }
   ],
   "source": [
    "joint_qpos_id = {}\n",
    "for i in range(mj_model.njnt):\n",
    "    if len(mj_model.joint(i).name):\n",
    "        jq_id = np.where(mj_model.jnt_dofadr == mj_model.joint(i).dofadr)[0]\n",
    "        if jq_id.size:\n",
    "            joint_qpos_id[mj_model.body(i).name] = int(jq_id[0])\n",
    "joint_qpos_id"
   ]
  },
  {
   "cell_type": "code",
   "execution_count": 115,
   "id": "4ecfa115",
   "metadata": {},
   "outputs": [
    {
     "data": {
      "text/plain": [
       "(16,)"
      ]
     },
     "execution_count": 115,
     "metadata": {},
     "output_type": "execute_result"
    }
   ],
   "source": [
    "mj_data.qpos.shape"
   ]
  },
  {
   "cell_type": "code",
   "execution_count": null,
   "id": "a5b8c49e",
   "metadata": {},
   "outputs": [
    {
     "data": {
      "text/plain": [
       "array([ 0,  1,  2,  3,  4,  5,  6,  7,  8, 14], dtype=int32)"
      ]
     },
     "execution_count": 116,
     "metadata": {},
     "output_type": "execute_result"
    }
   ],
   "source": [
    "mj_model.jnt"
   ]
  },
  {
   "cell_type": "code",
   "execution_count": 117,
   "id": "79f27e20",
   "metadata": {},
   "outputs": [
    {
     "data": {
      "text/plain": [
       "<_MjModelJointViews\n",
       "  M0: array([0.])\n",
       "  Madr: array([56], dtype=int32)\n",
       "  armature: array([0.])\n",
       "  axis: array([0., 1., 0.])\n",
       "  bodyid: array([15], dtype=int32)\n",
       "  damping: array([0.002])\n",
       "  dofadr: array([14], dtype=int32)\n",
       "  frictionloss: array([1.])\n",
       "  group: array([0], dtype=int32)\n",
       "  id: 9\n",
       "  invweight0: array([500000.])\n",
       "  jntid: array([9], dtype=int32)\n",
       "  limited: array([1], dtype=uint8)\n",
       "  margin: array([0.])\n",
       "  name: 'laptop_joint'\n",
       "  parentid: array([-1], dtype=int32)\n",
       "  pos: array([0., 0., 0.])\n",
       "  qpos0: array([0.])\n",
       "  qpos_spring: array([0.])\n",
       "  qposadr: array([15], dtype=int32)\n",
       "  range: array([0.  , 3.14])\n",
       "  simplenum: array([0], dtype=int32)\n",
       "  solimp: array([0.9  , 0.95 , 0.001, 0.5  , 2.   ])\n",
       "  solref: array([0.02, 1.  ])\n",
       "  stiffness: array([0.])\n",
       "  type: array([3], dtype=int32)\n",
       "  user: array([], dtype=float64)\n",
       ">"
      ]
     },
     "execution_count": 117,
     "metadata": {},
     "output_type": "execute_result"
    }
   ],
   "source": [
    "mj_model.joint(\"laptop_joint\")"
   ]
  },
  {
   "cell_type": "code",
   "execution_count": 19,
   "id": "3fc12204",
   "metadata": {},
   "outputs": [
    {
     "data": {
      "text/plain": [
       "(28, 6)"
      ]
     },
     "execution_count": 19,
     "metadata": {},
     "output_type": "execute_result"
    }
   ],
   "source": [
    "mj_data.cdof.shape"
   ]
  },
  {
   "cell_type": "code",
   "execution_count": null,
   "id": "7ab9e8a6",
   "metadata": {},
   "outputs": [],
   "source": []
  }
 ],
 "metadata": {
  "kernelspec": {
   "display_name": "discoverse",
   "language": "python",
   "name": "python3"
  },
  "language_info": {
   "codemirror_mode": {
    "name": "ipython",
    "version": 3
   },
   "file_extension": ".py",
   "mimetype": "text/x-python",
   "name": "python",
   "nbconvert_exporter": "python",
   "pygments_lexer": "ipython3",
   "version": "3.10.16"
  }
 },
 "nbformat": 4,
 "nbformat_minor": 5
}
